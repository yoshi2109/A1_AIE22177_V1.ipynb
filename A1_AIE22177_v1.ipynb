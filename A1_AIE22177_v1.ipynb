{
  "nbformat": 4,
  "nbformat_minor": 0,
  "metadata": {
    "colab": {
      "provenance": []
    },
    "kernelspec": {
      "name": "python3",
      "display_name": "Python 3"
    },
    "language_info": {
      "name": "python"
    }
  },
  "cells": [
    {
      "cell_type": "code",
      "execution_count": 2,
      "metadata": {
        "colab": {
          "base_uri": "https://localhost:8080/"
        },
        "id": "cJSTn3yZCI4y",
        "outputId": "61abdd87-18e4-40bc-b0b4-8dd886bf33d7"
      },
      "outputs": [
        {
          "output_type": "stream",
          "name": "stdout",
          "text": [
            " Number of pairs of elements with sum equal to 10: 2\n"
          ]
        }
      ],
      "source": [
        "#(1)Count pairs of elements with sum equal to 10.\n",
        "def count_pairs_with_sum(lst, target_sum):\n",
        "    count = 0\n",
        "    for i in range(len(lst)):# itreate each element in the list\n",
        "        for j in range(i + 1, len(lst)): #itrates to avoid duplicates\n",
        "            if lst[i] + lst[j] == target_sum:\n",
        "                count += 1# increments the value if condition is satisfied\n",
        "    return count #returns final count of pairs\n",
        "\n",
        "given_list = [2, 7, 4, 1, 3, 6]\n",
        "result = count_pairs_with_sum(given_list, 10)\n",
        "print(f\" Number of pairs of elements with sum equal to 10: {result}\")\n"
      ]
    },
    {
      "cell_type": "code",
      "source": [
        "#(2)Range of a list of real numbers, handling cases with less than three elements.\n",
        "def calculate_range(numbers):\n",
        "    if len(numbers) < 3:# to check there are atleast 3 elements in the list\n",
        "        return \"Range determination not possible\"\n",
        "    else:\n",
        "        return max(numbers) - min(numbers)# to calculate range by subracting min from max\n",
        "\n",
        "real_numbers_list = [5, 3, 8, 1, 0, 4]\n",
        "result = calculate_range(real_numbers_list)\n",
        "print(f\"Range of the list: {result}\")\n"
      ],
      "metadata": {
        "colab": {
          "base_uri": "https://localhost:8080/"
        },
        "id": "qNE5IcVrCsGm",
        "outputId": "10ebe7e2-943f-42c7-fa71-f26741f6429a"
      },
      "execution_count": 3,
      "outputs": [
        {
          "output_type": "stream",
          "name": "stdout",
          "text": [
            "Range of the list: 8\n"
          ]
        }
      ]
    },
    {
      "cell_type": "code",
      "source": [
        "#(3)Accepts a square matrix A and a positive integer m as arguments and returns A\n",
        "def multiply_matrices(A, B):#Multiplies the two givem matrices\n",
        "    result = []\n",
        "    for i in range(len(A)):\n",
        "        row = []\n",
        "        for j in range(len(B[0])):\n",
        "            element = sum(A[i][k] * B[k][j] for k in range(len(B)))\n",
        "            row.append(element)\n",
        "        result.append(row)\n",
        "    return result\n",
        "\n",
        "def matrix_power(A, m):\n",
        "    result = A.copy() # to raise matrix to the power m\n",
        "    for _ in range(m - 1):# Calls the above fuction to the number of times as value of m\n",
        "        result = multiply_matrices(result, A)\n",
        "    return result\n",
        "\n",
        "# User input for square matrix A\n",
        "n = int(input(\"Enter the size of the square matrix A: \"))\n",
        "A = []\n",
        "for i in range(n):\n",
        "    row = list(map(int, input(f\"Enter row {i + 1} (separated by space): \").split()))\n",
        "    A.append(row)\n",
        "\n",
        "# User input for positive integer m\n",
        "m = int(input(\"Enter a positive integer m: \"))\n",
        "\n",
        "# Calculate and print Am\n",
        "result = matrix_power(A, m)\n",
        "print(f\"A^{m}:\\n{result}\")\n",
        "\n"
      ],
      "metadata": {
        "colab": {
          "base_uri": "https://localhost:8080/"
        },
        "id": "uokheahQD2HS",
        "outputId": "6787b232-3ae0-4c58-84fc-f394cea60c13"
      },
      "execution_count": 4,
      "outputs": [
        {
          "output_type": "stream",
          "name": "stdout",
          "text": [
            "Enter the size of the square matrix A: 2\n",
            "Enter row 1 (separated by space): 2 4 \n",
            "Enter row 2 (separated by space): 3 5\n",
            "Enter a positive integer m: 4\n",
            "A^4:\n",
            "[[844, 1484], [1113, 1957]]\n"
          ]
        }
      ]
    },
    {
      "cell_type": "code",
      "source": [
        "#(4)highest occurringcharacter\n",
        "def max_occurrence_count(input_string):\n",
        "    counts = {}# to store charecter count\n",
        "    for char in input_string:#counts occurances in input string\n",
        "        if char.isalpha():\n",
        "            counts[char] = counts.get(char, 0) + 1\n",
        "\n",
        "    if not counts:\n",
        "        return \"No alphabets found in the input string\"\n",
        "\n",
        "    max_char = max(counts, key=counts.get)\n",
        "    max_count = counts[max_char]\n",
        "\n",
        "    return max_char, max_count\n",
        "\n",
        "input_str = \"hippopotamus\"\n",
        "result = max_occurrence_count(input_str)\n",
        "print(f\"The maximally occurring character is '{result[0]}' with occurrence count {result[1]}.\")\n"
      ],
      "metadata": {
        "colab": {
          "base_uri": "https://localhost:8080/"
        },
        "id": "OVMXL3IqERtv",
        "outputId": "0a9cf058-e94e-4bc0-9a7c-30c55e9bbfc7"
      },
      "execution_count": 5,
      "outputs": [
        {
          "output_type": "stream",
          "name": "stdout",
          "text": [
            "The maximally occurring character is 'p' with occurrence count 3.\n"
          ]
        }
      ]
    }
  ]
}